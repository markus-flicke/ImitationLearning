{
 "cells": [
  {
   "cell_type": "code",
   "execution_count": 1,
   "metadata": {},
   "outputs": [],
   "source": [
    "import imitations as im\n",
    "import numpy as np"
   ]
  },
  {
   "cell_type": "code",
   "execution_count": 2,
   "metadata": {},
   "outputs": [
    {
     "name": "stdout",
     "output_type": "stream",
     "text": [
      "preloading data 0/598\n",
      "preloading data 59/598\n",
      "preloading data 118/598\n",
      "preloading data 177/598\n",
      "preloading data 236/598\n",
      "preloading data 295/598\n",
      "preloading data 354/598\n",
      "preloading data 413/598\n",
      "preloading data 472/598\n",
      "preloading data 531/598\n",
      "preloading data 590/598\n"
     ]
    }
   ],
   "source": [
    "observations, actions = im.load_imitations(r\"data\\teacher\")"
   ]
  },
  {
   "cell_type": "code",
   "execution_count": 3,
   "metadata": {},
   "outputs": [],
   "source": [
    "import torch"
   ]
  },
  {
   "cell_type": "code",
   "execution_count": 4,
   "metadata": {},
   "outputs": [],
   "source": [
    "classes = [[0,0,0],\n",
    "               [-1,0,0],\n",
    "               [1,0,0],\n",
    "               [0,0.5,0],\n",
    "               [0,0,0.8],\n",
    "               [-1,0.5,0],\n",
    "               [1,0.5,0]]\n",
    "def is_classified(action):\n",
    "    return list(action) in classes\n"
   ]
  },
  {
   "cell_type": "code",
   "execution_count": 5,
   "metadata": {},
   "outputs": [
    {
     "name": "stdout",
     "output_type": "stream",
     "text": [
      "not classified: [-1.   0.   0.8]\n",
      "not classified: [-1.   0.   0.8]\n",
      "not classified: [-1.   0.   0.8]\n",
      "not classified: [-1.   0.   0.8]\n",
      "not classified: [-1.   0.   0.8]\n",
      "not classified: [-1.   0.   0.8]\n",
      "not classified: [1.  0.  0.8]\n",
      "not classified: [-1.   0.   0.8]\n",
      "not classified: [-1.   0.   0.8]\n",
      "not classified: [-1.   0.   0.8]\n",
      "not classified: [-1.   0.   0.8]\n"
     ]
    }
   ],
   "source": [
    "for action in actions:\n",
    "    if not is_classified(action):\n",
    "        print(f'not classified: {action}')"
   ]
  },
  {
   "cell_type": "code",
   "execution_count": 6,
   "metadata": {},
   "outputs": [],
   "source": [
    "from network import ClassificationNetwork"
   ]
  },
  {
   "cell_type": "code",
   "execution_count": 7,
   "metadata": {},
   "outputs": [
    {
     "data": {
      "text/plain": [
       "[tensor([1., 0., 0., 0., 0., 0., 0., 0., 0.]),\n",
       " tensor([0., 0., 0., 1., 0., 0., 0., 0., 0.]),\n",
       " tensor([0., 0., 0., 1., 0., 0., 0., 0., 0.])]"
      ]
     },
     "execution_count": 7,
     "metadata": {},
     "output_type": "execute_result"
    }
   ],
   "source": [
    "model = ClassificationNetwork()\n",
    "model.actions_to_classes(actions)[:3]"
   ]
  },
  {
   "cell_type": "code",
   "execution_count": 8,
   "metadata": {},
   "outputs": [],
   "source": [
    "scores = [torch.Tensor([0.2])]  + [torch.Tensor([0])]* 6+[torch.Tensor([1])]+[torch.Tensor([0])]"
   ]
  },
  {
   "cell_type": "code",
   "execution_count": 9,
   "metadata": {},
   "outputs": [
    {
     "data": {
      "text/plain": [
       "(-1.0, 0.0, 0.8)"
      ]
     },
     "execution_count": 9,
     "metadata": {},
     "output_type": "execute_result"
    }
   ],
   "source": [
    "model.scores_to_action(scores)"
   ]
  },
  {
   "cell_type": "code",
   "execution_count": null,
   "metadata": {},
   "outputs": [],
   "source": []
  }
 ],
 "metadata": {
  "kernelspec": {
   "display_name": "Python 3",
   "language": "python",
   "name": "python3"
  },
  "language_info": {
   "codemirror_mode": {
    "name": "ipython",
    "version": 3
   },
   "file_extension": ".py",
   "mimetype": "text/x-python",
   "name": "python",
   "nbconvert_exporter": "python",
   "pygments_lexer": "ipython3",
   "version": "3.7.5"
  }
 },
 "nbformat": 4,
 "nbformat_minor": 4
}
