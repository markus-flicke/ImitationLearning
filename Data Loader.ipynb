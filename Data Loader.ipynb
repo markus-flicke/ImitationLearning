{
 "cells": [
  {
   "cell_type": "code",
   "execution_count": 2,
   "metadata": {},
   "outputs": [],
   "source": [
    "from src.imitations import load_imitations\n",
    "import matplotlib.pyplot as plt\n",
    "import numpy as np"
   ]
  },
  {
   "cell_type": "code",
   "execution_count": 3,
   "metadata": {},
   "outputs": [
    {
     "name": "stdout",
     "output_type": "stream",
     "text": [
      "preloading dat 0/738\n",
      "preloading dat 73/738\n",
      "preloading dat 146/738\n",
      "preloading dat 219/738\n",
      "preloading dat 292/738\n",
      "preloading dat 365/738\n",
      "preloading dat 438/738\n",
      "preloading dat 511/738\n",
      "preloading dat 584/738\n",
      "preloading dat 657/738\n",
      "preloading dat 730/738\n"
     ]
    }
   ],
   "source": [
    "DATA_FOLDER = \"dat/teacher\"\n",
    "observations, actions = load_imitations(DATA_FOLDER)"
   ]
  },
  {
   "cell_type": "code",
   "execution_count": 4,
   "metadata": {},
   "outputs": [
    {
     "data": {
      "image/png": "[encoded data removed]",
      "text/plain": [
       "<Figure size 432x288 with 1 Axes>"
      ]
     },
     "metadata": {
      "needs_background": "light"
     },
     "output_type": "display_data"
    }
   ],
   "source": [
    "\n",
    "observation = observations[3]\n",
    "# Grayscale\n",
    "observation = observation[:, :, 0] * 0.2989 + observation[:, :, 1] * 0.5870 + observation[:, :, 2] * 0.1140\n",
    "\n",
    "# Crop\n",
    "observation = observation[:84, :].reshape(84, 96)\n",
    "\n",
    "plt.imshow(observation, cmap='gray')\n",
    "plt.show()"
   ]
  },
  {
   "cell_type": "code",
   "execution_count": 8,
   "metadata": {},
   "outputs": [
    {
     "ename": "AttributeError",
     "evalue": "'list' object has no attribute 'shape'",
     "output_type": "error",
     "traceback": [
      "\u001b[1;31m---------------------------------------------------------------------------\u001b[0m",
      "\u001b[1;31mAttributeError\u001b[0m                            Traceback (most recent call last)",
      "\u001b[1;32m<ipython-input-8-2f949dfea4d5>\u001b[0m in \u001b[0;36m<module>\u001b[1;34m\u001b[0m\n\u001b[0;32m      1\u001b[0m \u001b[0mobservation\u001b[0m \u001b[1;33m=\u001b[0m \u001b[0mobservations\u001b[0m\u001b[1;33m\u001b[0m\u001b[1;33m\u001b[0m\u001b[0m\n\u001b[1;32m----> 2\u001b[1;33m \u001b[0mbatch_size\u001b[0m \u001b[1;33m=\u001b[0m \u001b[0mobservation\u001b[0m\u001b[1;33m.\u001b[0m\u001b[0mshape\u001b[0m\u001b[1;33m[\u001b[0m\u001b[1;36m0\u001b[0m\u001b[1;33m]\u001b[0m \u001b[1;31m# 64\u001b[0m\u001b[1;33m\u001b[0m\u001b[1;33m\u001b[0m\u001b[0m\n\u001b[0m\u001b[0;32m      3\u001b[0m \u001b[1;31m# extract sensor values\u001b[0m\u001b[1;33m\u001b[0m\u001b[1;33m\u001b[0m\u001b[1;33m\u001b[0m\u001b[0m\n\u001b[0;32m      4\u001b[0m \u001b[1;33m\u001b[0m\u001b[0m\n\u001b[0;32m      5\u001b[0m \u001b[1;33m\u001b[0m\u001b[0m\n",
      "\u001b[1;31mAttributeError\u001b[0m: 'list' object has no attribute 'shape'"
     ]
    }
   ],
   "source": [
    "observation = observations\n",
    "batch_size = observation.shape[0] # 64\n",
    "# extract sensor values\n",
    "\n",
    "\n",
    "# conversion to gray scale\n",
    "observation = observation[:, :, :, 0] * 0.2989 + observation[:, :, :, 1] * 0.5870 + observation[:, :, :, 2] * 0.1140\n",
    "# crop and reshape observations to 84 x 96\n",
    "obs = observation[:, :84, :].reshape(batch_size, 1, 84, 96)\n",
    "print(observation)"
   ]
  },
  {
   "cell_type": "code",
   "execution_count": 12,
   "metadata": {},
   "outputs": [
    {
     "name": "stdout",
     "output_type": "stream",
     "text": [
      "preloading dat 0/738\n",
      "preloading dat 73/738\n",
      "preloading dat 146/738\n",
      "preloading dat 219/738\n",
      "preloading dat 292/738\n",
      "preloading dat 365/738\n",
      "preloading dat 438/738\n",
      "preloading dat 511/738\n",
      "preloading dat 584/738\n",
      "preloading dat 657/738\n",
      "preloading dat 730/738\n"
     ]
    }
   ],
   "source": [
    "from src.network import ClassificationNetwork\n",
    "import torch \n",
    "\n",
    "infer_action = ClassificationNetwork()\n",
    "optimizer = torch.optim.Adam(infer_action.parameters(), lr=0.01*1e-2)\n",
    "observations, actions = load_imitations(DATA_FOLDER)\n",
    "observations = [torch.Tensor(observation) for observation in observations]\n",
    "    "
   ]
  },
  {
   "cell_type": "code",
   "execution_count": 42,
   "metadata": {},
   "outputs": [
    {
     "data": {
      "image/png": "[encoded data removed]",
      "text/plain": [
       "<Figure size 432x288 with 1 Axes>"
      ]
     },
     "metadata": {
      "needs_background": "light"
     },
     "output_type": "display_data"
    }
   ],
   "source": [
    "observation = observations[3]\n",
    "\n",
    "# Grayscale\n",
    "observation = observation[:, :, 0] * 0.2989 + observation[:, :, 1] * 0.5870 + observation[:, :, 2] * 0.1140\n",
    "\n",
    "# Crop\n",
    "observation = observation[:84, :].reshape(84, 96)\n",
    "\n",
    "plt.imshow(observation, cmap='gray')\n",
    "plt.show()"
   ]
  },
  {
   "cell_type": "code",
   "execution_count": 61,
   "metadata": {},
   "outputs": [],
   "source": [
    "observation = observations[3]"
   ]
  },
  {
   "cell_type": "code",
   "execution_count": 62,
   "metadata": {},
   "outputs": [],
   "source": [
    "green_values = [204,229]"
   ]
  },
  {
   "cell_type": "code",
   "execution_count": 63,
   "metadata": {},
   "outputs": [],
   "source": [
    "a = torch.Tensor([1, 2, 3])"
   ]
  },
  {
   "cell_type": "code",
   "execution_count": 64,
   "metadata": {},
   "outputs": [
    {
     "data": {
      "text/plain": [
       "tensor([1., 2., 0.])"
      ]
     },
     "execution_count": 64,
     "metadata": {},
     "output_type": "execute_result"
    }
   ],
   "source": [
    "torch.where(a==3, torch.tensor(0.), a)"
   ]
  },
  {
   "cell_type": "code",
   "execution_count": 65,
   "metadata": {},
   "outputs": [],
   "source": [
    "observation = torch.where(observation == 204, torch.tensor(0.), observation)\n",
    "observation = torch.where(observation == 229, torch.tensor(0.), observation)"
   ]
  },
  {
   "cell_type": "code",
   "execution_count": 71,
   "metadata": {},
   "outputs": [
    {
     "data": {
      "image/png": "[encoded data removed]",
      "text/plain": [
       "<Figure size 432x288 with 1 Axes>"
      ]
     },
     "metadata": {
      "needs_background": "light"
     },
     "output_type": "display_data"
    }
   ],
   "source": [
    "# Grayscale\n",
    "observation = observation[:, :, 0] * 0.2989 + observation[:, :, 1] * 0.5870 + observation[:, :, 2] * 0.1140\n",
    "\n",
    "# Crop\n",
    "observation = observation[:84, :].reshape(84, 96)\n",
    "\n",
    "plt.imshow(observation, cmap='gray')\n",
    "plt.show()"
   ]
  },
  {
   "cell_type": "code",
   "execution_count": null,
   "metadata": {},
   "outputs": [],
   "source": []
  }
 ],
 "metadata": {
  "kernelspec": {
   "display_name": "Python 3",
   "language": "python",
   "name": "python3"
  },
  "language_info": {
   "codemirror_mode": {
    "name": "ipython",
    "version": 3
   },
   "file_extension": ".py",
   "mimetype": "text/x-python",
   "name": "python",
   "nbconvert_exporter": "python",
   "pygments_lexer": "ipython3",
   "version": "3.7.5"
  }
 },
 "nbformat": 4,
 "nbformat_minor": 4
}
