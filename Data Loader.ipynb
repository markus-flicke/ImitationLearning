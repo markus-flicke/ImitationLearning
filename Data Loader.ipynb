{
 "cells": [
  {
   "cell_type": "code",
   "execution_count": 5,
   "metadata": {},
   "outputs": [],
   "source": [
    "from src.imitations import load_imitations\n",
    "import matplotlib.pyplot as plt\n",
    "import numpy as np"
   ]
  },
  {
   "cell_type": "code",
   "execution_count": 6,
   "metadata": {},
   "outputs": [
    {
     "name": "stdout",
     "output_type": "stream",
     "text": [
      "preloading dat 0/738\n",
      "preloading dat 73/738\n",
      "preloading dat 146/738\n",
      "preloading dat 219/738\n",
      "preloading dat 292/738\n",
      "preloading dat 365/738\n",
      "preloading dat 438/738\n",
      "preloading dat 511/738\n",
      "preloading dat 584/738\n",
      "preloading dat 657/738\n",
      "preloading dat 730/738\n"
     ]
    }
   ],
   "source": [
    "DATA_FOLDER = \"dat/no_grass\"\n",
    "observations, actions = load_imitations(DATA_FOLDER)"
   ]
  },
  {
   "cell_type": "code",
   "execution_count": 7,
   "metadata": {},
   "outputs": [
    {
     "data": {
      "image/png": "[encoded data removed]",
      "text/plain": [
       "<Figure size 432x288 with 1 Axes>"
      ]
     },
     "metadata": {
      "needs_background": "light"
     },
     "output_type": "display_data"
    }
   ],
   "source": [
    "\n",
    "observation = observations[3]\n",
    "# Grayscale\n",
    "observation = observation[:, :, 0] * 0.2989 + observation[:, :, 1] * 0.5870 + observation[:, :, 2] * 0.1140\n",
    "\n",
    "# Crop\n",
    "observation = observation[:84, :].reshape(84, 96)\n",
    "\n",
    "plt.imshow(observation, cmap='gray')\n",
    "plt.show()"
   ]
  },
  {
   "cell_type": "code",
   "execution_count": null,
   "metadata": {},
   "outputs": [],
   "source": []
  },
  {
   "cell_type": "code",
   "execution_count": null,
   "metadata": {},
   "outputs": [],
   "source": []
  },
  {
   "cell_type": "code",
   "execution_count": null,
   "metadata": {},
   "outputs": [],
   "source": []
  }
 ],
 "metadata": {
  "kernelspec": {
   "display_name": "Python 3",
   "language": "python",
   "name": "python3"
  },
  "language_info": {
   "codemirror_mode": {
    "name": "ipython",
    "version": 3
   },
   "file_extension": ".py",
   "mimetype": "text/x-python",
   "name": "python",
   "nbconvert_exporter": "python",
   "pygments_lexer": "ipython3",
   "version": "3.7.5"
  }
 },
 "nbformat": 4,
 "nbformat_minor": 4
}
