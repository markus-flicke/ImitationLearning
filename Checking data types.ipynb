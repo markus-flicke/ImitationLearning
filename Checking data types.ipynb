{
 "cells": [
  {
   "cell_type": "code",
   "execution_count": 1,
   "metadata": {},
   "outputs": [],
   "source": [
    "from src import imitations as im\n",
    "import numpy as np\n",
    "import torch\n",
    "from src.network import ClassificationNetwork\n",
    "import pandas as pd"
   ]
  },
  {
   "cell_type": "code",
   "execution_count": 2,
   "metadata": {},
   "outputs": [
    {
     "name": "stdout",
     "output_type": "stream",
     "text": [
      "preloading dat 0/598\n",
      "preloading dat 59/598\n",
      "preloading dat 118/598\n",
      "preloading dat 177/598\n",
      "preloading dat 236/598\n",
      "preloading dat 295/598\n",
      "preloading dat 354/598\n",
      "preloading dat 413/598\n",
      "preloading dat 472/598\n",
      "preloading dat 531/598\n",
      "preloading dat 590/598\n"
     ]
    }
   ],
   "source": [
    "observations, actions = im.load_imitations(r\"dat\\teacher\")"
   ]
  },
  {
   "cell_type": "markdown",
   "metadata": {},
   "source": [
    "### Actions is a list of np.arrays"
   ]
  },
  {
   "cell_type": "code",
   "execution_count": 3,
   "metadata": {},
   "outputs": [
    {
     "data": {
      "text/plain": [
       "[array([0., 0., 0.]), array([0. , 0.5, 0. ])]"
      ]
     },
     "execution_count": 3,
     "metadata": {},
     "output_type": "execute_result"
    }
   ],
   "source": [
    "actions[:2]"
   ]
  },
  {
   "cell_type": "markdown",
   "metadata": {},
   "source": [
    "### Observations is a list of 3D np.arrays\n",
    "[599 x np.array(96 x 96 x 3)]"
   ]
  },
  {
   "cell_type": "code",
   "execution_count": 4,
   "metadata": {},
   "outputs": [
    {
     "name": "stdout",
     "output_type": "stream",
     "text": [
      "599\n",
      "96\n",
      "96\n",
      "3\n"
     ]
    }
   ],
   "source": [
    "print(len(observations))\n",
    "print(len(observations[0]))\n",
    "print(len(observations[0][0]))\n",
    "print(len(observations[0][0][0]))"
   ]
  },
  {
   "cell_type": "markdown",
   "metadata": {},
   "source": [
    "### ClassificationNetwork.classes is a list of lists\n",
    "[[steer, gas, brake]]"
   ]
  },
  {
   "cell_type": "code",
   "execution_count": 5,
   "metadata": {},
   "outputs": [
    {
     "data": {
      "text/plain": [
       "array([[ 0. ,  0. ,  0. ],\n",
       "       [-1. ,  0. ,  0. ],\n",
       "       [ 1. ,  0. ,  0. ],\n",
       "       [ 0. ,  0.5,  0. ],\n",
       "       [ 0. ,  0. ,  0.8],\n",
       "       [-1. ,  0.5,  0. ],\n",
       "       [ 1. ,  0.5,  0. ],\n",
       "       [-1. ,  0. ,  0.8],\n",
       "       [ 1. ,  0. ,  0.8]])"
      ]
     },
     "execution_count": 5,
     "metadata": {},
     "output_type": "execute_result"
    }
   ],
   "source": [
    "ClassificationNetwork.classes"
   ]
  }
 ],
 "metadata": {
  "kernelspec": {
   "display_name": "Python 3",
   "language": "python",
   "name": "python3"
  },
  "language_info": {
   "codemirror_mode": {
    "name": "ipython",
    "version": 3
   },
   "file_extension": ".py",
   "mimetype": "text/x-python",
   "name": "python",
   "nbconvert_exporter": "python",
   "pygments_lexer": "ipython3",
   "version": "3.7.5"
  }
 },
 "nbformat": 4,
 "nbformat_minor": 4
}
